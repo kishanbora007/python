{
 "cells": [
  {
   "cell_type": "code",
   "execution_count": 22,
   "id": "be8fac99",
   "metadata": {},
   "outputs": [
    {
     "name": "stdout",
     "output_type": "stream",
     "text": [
      "Enter the value of n:12\n",
      "nth fibonacci term is 89\n"
     ]
    }
   ],
   "source": [
    "# Fibonacci series\n",
    "n = int(input(\"Enter the value of n:\"))\n",
    "if n<0:\n",
    "    print(\"please enter a valid no.\")\n",
    "fib= [0,1] #initiating a list\n",
    "#starting a for loop having length as constraint.\n",
    "for a in range(2,n):\n",
    "    next_num= fib[-1] + fib[-2]\n",
    "    fib.append(next_num)\n",
    "    a = len(fib)\n",
    "result= fib[-1]\n",
    "#printing final value\n",
    "print(\"nth fibonacci term is\", result)"
   ]
  },
  {
   "cell_type": "code",
   "execution_count": 24,
   "id": "0827f924",
   "metadata": {},
   "outputs": [
    {
     "name": "stdout",
     "output_type": "stream",
     "text": [
      "Enter a number to check if it's a Fibonacci number: 7\n",
      "7 is not a Fibonacci number.\n"
     ]
    }
   ],
   "source": [
    "# testing if a given no is fibonacci\n",
    "import math\n",
    "def is_perfect_square(n):\n",
    "    root = int(math.sqrt(n))\n",
    "    return root * root == n\n",
    "\n",
    "def is_fibonacci_number(num):\n",
    "    if num <= 0:\n",
    "        return False\n",
    "    return is_perfect_square(5 * num * num + 4) or is_perfect_square(5 * num * num - 4)\n",
    "\n",
    "# Test the function\n",
    "num = int(input(\"Enter a number to check if it's a Fibonacci number: \"))\n",
    "if is_fibonacci_number(num):\n",
    "    print(f\"{num} is a Fibonacci number.\")\n",
    "else:\n",
    "    print(f\"{num} is not a Fibonacci number.\")\n"
   ]
  },
  {
   "cell_type": "code",
   "execution_count": 25,
   "id": "6ef9e237",
   "metadata": {},
   "outputs": [
    {
     "name": "stdout",
     "output_type": "stream",
     "text": [
      "Enter the value of n: 5\n",
      "Enter the number: 10\n",
      "2111485077978050\n"
     ]
    }
   ],
   "source": [
    "#Python Program for nth multiple of a number in Fibonacci Series\n",
    "def find_nth_multiple_of_number(n, number):\n",
    "    if n <= 0 or number <= 0:\n",
    "        return \"Invalid input. Please provide positive integers.\"\n",
    "\n",
    "    fib_sequence = [0, 1]  # Starting sequence\n",
    "    count = 2  # Counter to keep track of the Fibonacci numbers\n",
    "    multiples = 0  # Counter to keep track of the multiples found\n",
    "\n",
    "    while multiples < n:\n",
    "        next_num = fib_sequence[-1] + fib_sequence[-2]\n",
    "        if next_num % number == 0:\n",
    "            multiples += 1\n",
    "            if multiples == n:\n",
    "                return next_num\n",
    "        fib_sequence.append(next_num)\n",
    "        count += 1\n",
    "\n",
    "    return f\"No {n}-th multiple of {number} found in the Fibonacci series.\"\n",
    "\n",
    "# Test the function\n",
    "n = int(input(\"Enter the value of n: \"))\n",
    "number = int(input(\"Enter the number: \"))\n",
    "result = find_nth_multiple_of_number(n, number)\n",
    "print(result)\n"
   ]
  },
  {
   "cell_type": "code",
   "execution_count": 28,
   "id": "1fa5bfc5",
   "metadata": {},
   "outputs": [
    {
     "name": "stdout",
     "output_type": "stream",
     "text": [
      "Enter a character: z\n",
      "The ASCII value of z is: 122\n"
     ]
    }
   ],
   "source": [
    "#Program to print ASCII Value of a character\n",
    "\n",
    "character = input(\"Enter a character: \")\n",
    "ascii_value = ord(character)\n",
    "print(f\"The ASCII value of {character} is: {ascii_value}\")\n"
   ]
  },
  {
   "cell_type": "code",
   "execution_count": 31,
   "id": "45abf7a2",
   "metadata": {},
   "outputs": [
    {
     "name": "stdout",
     "output_type": "stream",
     "text": [
      "Enter the value of n: 4\n",
      "The sum of squares of the first 4 natural numbers is: 30\n"
     ]
    }
   ],
   "source": [
    "# defining sum of squares\n",
    "def sum_of_squares(n):\n",
    "    if n <= 0:\n",
    "        return \"Invalid input. Please provide a positive integer.\"\n",
    "\n",
    "    sum_squares = 0\n",
    "    for i in range(1, n+1):\n",
    "        sum_squares += i ** 2\n",
    "    return sum_squares\n",
    "# Test the function\n",
    "n = int(input(\"Enter the value of n: \"))\n",
    "result = sum_of_squares(n)\n",
    "print(f\"The sum of squares of the first {n} natural numbers is: {result}\")"
   ]
  },
  {
   "cell_type": "code",
   "execution_count": 44,
   "id": "e8095e86",
   "metadata": {},
   "outputs": [
    {
     "name": "stdout",
     "output_type": "stream",
     "text": [
      "enter the value of n:4\n",
      "sum of square 30\n"
     ]
    }
   ],
   "source": [
    "#sum of square by simple method\n",
    "n = int(input(\"enter the value of n:\"))\n",
    "sum_sq = 0\n",
    "for i in range(1, n+1):\n",
    "    sum_sq = sum_sq + i**2\n",
    "    #i+= 1\n",
    "print(\"sum of square\", sum_sq)"
   ]
  },
  {
   "cell_type": "code",
   "execution_count": 47,
   "id": "d085a885",
   "metadata": {},
   "outputs": [
    {
     "name": "stdout",
     "output_type": "stream",
     "text": [
      "enter the value of n:0\n",
      "sum of cubes 0\n"
     ]
    }
   ],
   "source": [
    "#sum of cubes of first n natural numbers\n",
    "n = int(input(\"enter the value of n:\"))\n",
    "sum_cube = 0\n",
    "for i in range(1, n+1):\n",
    "    sum_cube = sum_cube + i**3\n",
    " \n",
    "print(\"sum of cubes\", sum_cube)"
   ]
  },
  {
   "cell_type": "code",
   "execution_count": 51,
   "id": "b107772e",
   "metadata": {},
   "outputs": [
    {
     "name": "stdout",
     "output_type": "stream",
     "text": [
      "sum of array: 15\n"
     ]
    }
   ],
   "source": [
    "# sum of array\n",
    "# test array\n",
    "arr= [1,2,3,4,5]\n",
    "sum=0\n",
    "for i in arr:\n",
    "    sum+= i\n",
    "print(\"sum of array:\", sum)"
   ]
  },
  {
   "cell_type": "code",
   "execution_count": 52,
   "id": "e4116963",
   "metadata": {},
   "outputs": [
    {
     "name": "stdout",
     "output_type": "stream",
     "text": [
      "The largest element in the array [5, 9, 3, 11, 2, 8] is: 11\n"
     ]
    }
   ],
   "source": [
    "def find_largest_element(arr):\n",
    "    if not arr:\n",
    "        return \"Array is empty.\"\n",
    "\n",
    "    largest = arr[0]\n",
    "    for num in arr:\n",
    "        if num > largest:\n",
    "            largest = num\n",
    "    return largest\n",
    "\n",
    "# Test the function\n",
    "arr = [5, 9, 3, 11, 2, 8]\n",
    "result = find_largest_element(arr)\n",
    "print(f\"The largest element in the array {arr} is: {result}\")\n"
   ]
  },
  {
   "cell_type": "code",
   "execution_count": 54,
   "id": "43a8a420",
   "metadata": {},
   "outputs": [
    {
     "name": "stdout",
     "output_type": "stream",
     "text": [
      "Enter the size of the array: 5\n",
      "Enter element 1: 1\n",
      "Enter element 2: 2\n",
      "Enter element 3: 3\n",
      "Enter element 4: 4\n",
      "Enter element 5: 5\n",
      "Input array: [1, 2, 3, 4, 5]\n"
     ]
    }
   ],
   "source": [
    "def take_array_input():\n",
    "    size = int(input(\"Enter the size of the array: \"))\n",
    "    array = []\n",
    "\n",
    "    for i in range(size):\n",
    "        element = int(input(f\"Enter element {i + 1}: \"))\n",
    "        array.append(element)\n",
    "\n",
    "    return array\n",
    "\n",
    "# Example usage\n",
    "my_array = take_array_input()\n",
    "print(\"Input array:\", my_array)"
   ]
  },
  {
   "cell_type": "code",
   "execution_count": 66,
   "id": "c9d92813",
   "metadata": {},
   "outputs": [
    {
     "name": "stdout",
     "output_type": "stream",
     "text": [
      "The array [1, 2, 3, 4, 5] after rotating 1 times is: [2, 3, 4, 5, 1]\n"
     ]
    }
   ],
   "source": [
    "def rotate_array(arr, k):\n",
    "    if not arr:\n",
    "        return arr\n",
    "\n",
    "    n = len(arr)\n",
    "    k = k % n  # Handle rotations larger than array length\n",
    "\n",
    "    # Rotate the array\n",
    "    rotated_arr = arr[k:] + arr[:k]\n",
    "    return rotated_arr\n",
    "# Test the function\n",
    "arr = [1, 2, 3, 4, 5]\n",
    "k = 1\n",
    "result = rotate_array(arr, k)\n",
    "print(f\"The array {arr} after rotating {k} times is: {result}\")\n"
   ]
  },
  {
   "cell_type": "code",
   "execution_count": 72,
   "id": "f31556bb",
   "metadata": {},
   "outputs": [
    {
     "name": "stdout",
     "output_type": "stream",
     "text": [
      "Rotated array: [4, 5, 1, 2, 3]\n",
      "Reversed array rotation: [1, 2, 3, 4, 5]\n"
     ]
    }
   ],
   "source": [
    "def reverse_array_rotation(arr, k):\n",
    "    n = len(arr)\n",
    "    # Modulo operation to handle cases where k is greater than n\n",
    "    k = k % n\n",
    "\n",
    "    # Reverse the rotated array using array slicing\n",
    "    reversed_arr = arr[n-k:] + arr[:n-k]\n",
    "\n",
    "    return reversed_arr\n",
    "\n",
    "# Example usage\n",
    "array = [4, 5, 1, 2, 3]\n",
    "rotation_count = 3\n",
    "\n",
    "reversed_array = reverse_array_rotation(array, rotation_count)\n",
    "print(\"Rotated array:\", array)\n",
    "print(\"Reversed array rotation:\", reversed_array)\n"
   ]
  },
  {
   "cell_type": "code",
   "execution_count": 73,
   "id": "f27ce6b9",
   "metadata": {},
   "outputs": [
    {
     "name": "stdout",
     "output_type": "stream",
     "text": [
      "The array [1, 2, 3, 4, 5] after splitting and adding the first part to the end is: [3, 4, 5, 1, 2]\n"
     ]
    }
   ],
   "source": [
    "def split_and_add(arr, k):\n",
    "    if not arr:\n",
    "        return arr\n",
    "\n",
    "    n = len(arr)\n",
    "    k = k % n  # Handle rotations larger than array length\n",
    "\n",
    "    rotated_arr = arr[k:] + arr[:k]\n",
    "\n",
    "    return rotated_arr\n",
    "\n",
    "# Test the function\n",
    "arr = [1, 2, 3, 4, 5]\n",
    "k = 2\n",
    "result = split_and_add(arr, k)\n",
    "print(f\"The array {arr} after splitting and adding the first part to the end is: {result}\")\n"
   ]
  },
  {
   "cell_type": "code",
   "execution_count": null,
   "id": "964933ae",
   "metadata": {},
   "outputs": [],
   "source": []
  }
 ],
 "metadata": {
  "kernelspec": {
   "display_name": "Python 3 (ipykernel)",
   "language": "python",
   "name": "python3"
  },
  "language_info": {
   "codemirror_mode": {
    "name": "ipython",
    "version": 3
   },
   "file_extension": ".py",
   "mimetype": "text/x-python",
   "name": "python",
   "nbconvert_exporter": "python",
   "pygments_lexer": "ipython3",
   "version": "3.10.9"
  }
 },
 "nbformat": 4,
 "nbformat_minor": 5
}

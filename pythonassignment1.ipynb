{
 "cells": [
  {
   "cell_type": "code",
   "execution_count": 5,
   "id": "b56e8df8",
   "metadata": {},
   "outputs": [
    {
     "name": "stdout",
     "output_type": "stream",
     "text": [
      "Numbers divisible by 7 and multiples of 5 between 1500 and 2700\n",
      "[1505, 1540, 1575, 1610, 1645, 1680, 1715, 1750, 1785, 1820, 1855, 1890, 1925, 1960, 1995, 2030, 2065, 2100, 2135, 2170, 2205, 2240, 2275, 2310, 2345, 2380, 2415, 2450, 2485, 2520, 2555, 2590, 2625, 2660, 2695]\n"
     ]
    }
   ],
   "source": [
    "# 1) list of No. divisible by 7 & 5\n",
    "#Initialize an empty list to store the numbers\n",
    "numbers = []\n",
    "\n",
    "# Iterate through the range from 1500 to 2700 (inclusive)\n",
    "for num in range(1500, 2701):\n",
    "# Check if the number is divisible by 7 and a multiple of 5\n",
    "    if num % 7 == 0 and num % 5 == 0:\n",
    "# Append the number to the list\n",
    "        numbers.append(num)\n",
    "# Print the numbers that meet the criteria\n",
    "print(\"Numbers divisible by 7 and multiples of 5 between 1500 and 2700\")\n",
    "print(numbers)\n"
   ]
  },
  {
   "cell_type": "code",
   "execution_count": 9,
   "id": "558106c0",
   "metadata": {},
   "outputs": [
    {
     "name": "stdout",
     "output_type": "stream",
     "text": [
      "enter your first number:20\n",
      "enter your second number:40\n",
      "sum of numbers 60.0\n"
     ]
    }
   ],
   "source": [
    "#2) Sum of 2 Nos.- Input nos- taking input form user\n",
    "x= float(input(\"enter your first number:\" ))\n",
    "y= float(input(\"enter your second number:\" ))\n",
    "# defining simple print command for the sum\n",
    "print(\"sum of numbers\", x+y)"
   ]
  },
  {
   "cell_type": "code",
   "execution_count": 14,
   "id": "43b22a99",
   "metadata": {},
   "outputs": [
    {
     "name": "stdout",
     "output_type": "stream",
     "text": [
      "enter your first number:50\n",
      "enter your second number:120.8\n",
      "120.8 is greater\n"
     ]
    }
   ],
   "source": [
    "#3) Max. of 2 numbers\n",
    "x= float(input(\"enter your first number:\" ))\n",
    "y= float(input(\"enter your second number:\" ))\n",
    "# defining if for the program\n",
    "if x>y:\n",
    "    print(x,\"is greater\")\n",
    "else:\n",
    "    print(y, \"is greater\")"
   ]
  },
  {
   "cell_type": "code",
   "execution_count": 22,
   "id": "4aeb2723",
   "metadata": {},
   "outputs": [
    {
     "name": "stdout",
     "output_type": "stream",
     "text": [
      "Enter the number for factorial:8\n",
      "factorial is 40320\n"
     ]
    }
   ],
   "source": [
    "# Factorial of a number\n",
    "x= int(input(\"Enter the number for factorial:\"))\n",
    "if x<0:\n",
    "    print(\"Factorial not defined for number less than 0\")\n",
    "elif x==0 or x==1:\n",
    "    print(\"Factorial is 1\")\n",
    "else:\n",
    "    for i in range (2, x):\n",
    "        x*=i\n",
    "    print(\"factorial is\",x)\n",
    "    "
   ]
  },
  {
   "cell_type": "code",
   "execution_count": 2,
   "id": "98212d1b",
   "metadata": {},
   "outputs": [
    {
     "name": "stdout",
     "output_type": "stream",
     "text": [
      "Enter the principal amount: 1000\n",
      "Enter the interest rate (%): 10\n",
      "Enter the time period (in years): 2\n",
      "Simple Interest: 200.0\n"
     ]
    }
   ],
   "source": [
    "# 5) Simple Interest.\n",
    "# defining function for simple interest\n",
    "def simple_interest(p, r, t):\n",
    "    interest= (p*r*t)/100\n",
    "    return interest\n",
    "\n",
    "# Input the values from the user\n",
    "principal = float(input(\"Enter the principal amount: \"))\n",
    "rate = float(input(\"Enter the interest rate (%): \"))\n",
    "time = float(input(\"Enter the time period (in years): \"))\n",
    "\n",
    "# Call the simple_interest function and store the result\n",
    "interest = simple_interest(principal, rate, time)\n",
    "\n",
    "# Print the simple interest\n",
    "print(\"Simple Interest:\", interest)\n"
   ]
  },
  {
   "cell_type": "code",
   "execution_count": 3,
   "id": "176bbbc2",
   "metadata": {},
   "outputs": [
    {
     "name": "stdout",
     "output_type": "stream",
     "text": [
      "Enter the principal amount: 1000\n",
      "Enter the interest rate (%): 10\n",
      "Enter the time period (in years): 2\n",
      "Enter the compounding frequency per year: 1\n",
      "Compound Interest: 210.00000000000023\n"
     ]
    }
   ],
   "source": [
    "# Function to calculate compound interest\n",
    "def calculate_compound_interest(principal, rate, time, frequency):\n",
    "    amount = principal * (1 + rate / frequency) ** (frequency * time)\n",
    "    interest = amount - principal\n",
    "    return interest\n",
    "\n",
    "# Input the values from the user\n",
    "principal = float(input(\"Enter the principal amount: \"))\n",
    "rate = float(input(\"Enter the interest rate (%): \"))\n",
    "time = float(input(\"Enter the time period (in years): \"))\n",
    "frequency = int(input(\"Enter the compounding frequency per year: \"))\n",
    "\n",
    "# Call the calculate_compound_interest function and store the result\n",
    "interest = calculate_compound_interest(principal, rate / 100, time, frequency)\n",
    "\n",
    "# Print the compound interest\n",
    "print(\"Compound Interest:\", interest)\n"
   ]
  },
  {
   "cell_type": "code",
   "execution_count": 6,
   "id": "b416da0b",
   "metadata": {},
   "outputs": [
    {
     "name": "stdout",
     "output_type": "stream",
     "text": [
      "Enter a number: 25\n",
      "25 is not an Armstrong number.\n"
     ]
    }
   ],
   "source": [
    "# Function to check if a number is an Armstrong number\n",
    "def is_armstrong_number(number):\n",
    "    # Convert the number to a string to access its individual digits\n",
    "    num_str = str(number)\n",
    "    \n",
    "    # Calculate the number of digits in the number\n",
    "    num_digits = len(num_str)\n",
    "    \n",
    "    # Calculate the sum of the cubes of each digit\n",
    "    sum_of_cubes = sum([int(digit)**num_digits for digit in num_str])\n",
    "    \n",
    "    # Check if the sum of cubes is equal to the original number\n",
    "    if sum_of_cubes == number:\n",
    "        return True\n",
    "    else:\n",
    "        return False\n",
    "\n",
    "# Input the number from the user\n",
    "num = int(input(\"Enter a number: \"))\n",
    "\n",
    "# Call the is_armstrong_number function and store the result\n",
    "result = is_armstrong_number(num)\n",
    "\n",
    "# Print the result\n",
    "if result:\n",
    "    print(num, \"is an Armstrong number.\")\n",
    "else:\n",
    "    print(num, \"is not an Armstrong number.\")\n"
   ]
  },
  {
   "cell_type": "code",
   "execution_count": 8,
   "id": "65338a8e",
   "metadata": {},
   "outputs": [
    {
     "name": "stdout",
     "output_type": "stream",
     "text": [
      "Enter the radius of the circle: 7\n",
      "The area of the circle with radius 7.0 is: 154.0\n"
     ]
    }
   ],
   "source": [
    "# Import the math module for using the constant pi\n",
    "import math\n",
    "\n",
    "# Function to calculate the area of a circle\n",
    "def calculate_area(radius):\n",
    "    area = math.pi * radius**2\n",
    "    return area\n",
    "\n",
    "# Input the radius from the user\n",
    "radius = float(input(\"Enter the radius of the circle: \"))\n",
    "\n",
    "# Call the calculate_area function and store the result\n",
    "area = calculate_area(radius)\n",
    "\n",
    "# Print the area of the circle\n",
    "print(\"The area of the circle with radius\", radius, \"is:\", area)\n"
   ]
  },
  {
   "cell_type": "code",
   "execution_count": 11,
   "id": "7f3ac957",
   "metadata": {},
   "outputs": [
    {
     "name": "stdout",
     "output_type": "stream",
     "text": [
      "Enter the starting number of the interval: 25\n",
      "Enter the ending number of the interval: 40\n",
      "Prime numbers between 25 and 40 are:\n",
      "29\n",
      "31\n",
      "37\n"
     ]
    }
   ],
   "source": [
    "# Function to check if a number is prime\n",
    "def is_prime(number):\n",
    "    if number <= 1:\n",
    "        return False\n",
    "    for i in range(2, int(number**0.5) + 1):\n",
    "        if number % i == 0:\n",
    "            return False\n",
    "    return True\n",
    "\n",
    "# Input the interval from the user\n",
    "start = int(input(\"Enter the starting number of the interval: \"))\n",
    "end = int(input(\"Enter the ending number of the interval: \"))\n",
    "\n",
    "# Print the prime numbers within the interval\n",
    "print(\"Prime numbers between\", start, \"and\", end, \"are:\")\n",
    "for num in range(start, end + 1):\n",
    "    if is_prime(num):\n",
    "        print(num)\n"
   ]
  },
  {
   "cell_type": "code",
   "execution_count": 12,
   "id": "ab67f254",
   "metadata": {},
   "outputs": [
    {
     "name": "stdout",
     "output_type": "stream",
     "text": [
      "Enter a number: 37\n",
      "37 is a prime number.\n"
     ]
    }
   ],
   "source": [
    "# Function to check if a number is prime\n",
    "def is_prime(number):\n",
    "    if number <= 1:\n",
    "        return False\n",
    "    for i in range(2, int(number**0.5) + 1):\n",
    "        if number % i == 0:\n",
    "            return False\n",
    "    return True\n",
    "\n",
    "# Input the number from the user\n",
    "num = int(input(\"Enter a number: \"))\n",
    "\n",
    "# Check if the number is prime\n",
    "if is_prime(num):\n",
    "    print(num, \"is a prime number.\")\n",
    "else:\n",
    "    print(num, \"is not a prime number.\")\n"
   ]
  },
  {
   "cell_type": "code",
   "execution_count": 13,
   "id": "fd13f725",
   "metadata": {},
   "outputs": [
    {
     "name": "stdout",
     "output_type": "stream",
     "text": [
      "C:\\Users\\kisha\n"
     ]
    }
   ],
   "source": [
    "cd\n"
   ]
  }
 ],
 "metadata": {
  "kernelspec": {
   "display_name": "Python 3 (ipykernel)",
   "language": "python",
   "name": "python3"
  },
  "language_info": {
   "codemirror_mode": {
    "name": "ipython",
    "version": 3
   },
   "file_extension": ".py",
   "mimetype": "text/x-python",
   "name": "python",
   "nbconvert_exporter": "python",
   "pygments_lexer": "ipython3",
   "version": "3.10.9"
  }
 },
 "nbformat": 4,
 "nbformat_minor": 5
}
